{
 "cells": [
  {
   "attachments": {},
   "cell_type": "markdown",
   "metadata": {},
   "source": [
    "# **PySpark**"
   ]
  },
  {
   "attachments": {},
   "cell_type": "markdown",
   "metadata": {},
   "source": [
    "### **1. Preparation (Set up Spark Session)**"
   ]
  },
  {
   "cell_type": "code",
   "execution_count": 1,
   "metadata": {},
   "outputs": [
    {
     "name": "stderr",
     "output_type": "stream",
     "text": [
      "23/05/15 13:07:18 WARN Utils: Your hostname, Wahyus-MacBook-Air.local resolves to a loopback address: 127.0.0.1; using 172.16.28.60 instead (on interface en0)\n",
      "23/05/15 13:07:18 WARN Utils: Set SPARK_LOCAL_IP if you need to bind to another address\n",
      "Setting default log level to \"WARN\".\n",
      "To adjust logging level use sc.setLogLevel(newLevel). For SparkR, use setLogLevel(newLevel).\n",
      "23/05/15 13:07:18 WARN NativeCodeLoader: Unable to load native-hadoop library for your platform... using builtin-java classes where applicable\n"
     ]
    }
   ],
   "source": [
    "# Create spark session\n",
    "import pyspark\n",
    "from pyspark.sql import SparkSession\n",
    "spark = SparkSession.builder.appName('DataFrame').getOrCreate()"
   ]
  },
  {
   "cell_type": "code",
   "execution_count": 2,
   "metadata": {},
   "outputs": [
    {
     "data": {
      "text/html": [
       "\n",
       "            <div>\n",
       "                <p><b>SparkSession - in-memory</b></p>\n",
       "                \n",
       "        <div>\n",
       "            <p><b>SparkContext</b></p>\n",
       "\n",
       "            <p><a href=\"http://172.16.28.60:4040\">Spark UI</a></p>\n",
       "\n",
       "            <dl>\n",
       "              <dt>Version</dt>\n",
       "                <dd><code>v3.4.0</code></dd>\n",
       "              <dt>Master</dt>\n",
       "                <dd><code>local[*]</code></dd>\n",
       "              <dt>AppName</dt>\n",
       "                <dd><code>DataFrame</code></dd>\n",
       "            </dl>\n",
       "        </div>\n",
       "        \n",
       "            </div>\n",
       "        "
      ],
      "text/plain": [
       "<pyspark.sql.session.SparkSession at 0x12217ce50>"
      ]
     },
     "execution_count": 2,
     "metadata": {},
     "output_type": "execute_result"
    },
    {
     "name": "stderr",
     "output_type": "stream",
     "text": [
      "23/05/15 13:07:29 WARN GarbageCollectionMetrics: To enable non-built-in garbage collector(s) List(G1 Concurrent GC), users should configure it(them) to spark.eventLog.gcMetrics.youngGenerationGarbageCollectors or spark.eventLog.gcMetrics.oldGenerationGarbageCollectors\n"
     ]
    }
   ],
   "source": [
    "spark"
   ]
  },
  {
   "attachments": {},
   "cell_type": "markdown",
   "metadata": {},
   "source": [
    "### **2. Import Dataset**"
   ]
  },
  {
   "cell_type": "code",
   "execution_count": 4,
   "metadata": {},
   "outputs": [
    {
     "name": "stdout",
     "output_type": "stream",
     "text": [
      "+------+-------------+---------+------------+----+--------+\n",
      "|   _c0|          _c1|      _c2|         _c3| _c4|     _c5|\n",
      "+------+-------------+---------+------------+----+--------+\n",
      "|T_awal|Spindle_Speed|Feed_Rate|Depth_of_Cut|Time|T_Output|\n",
      "|  24.8|          800|       50|           3|   1|    24.8|\n",
      "|  24.8|          800|       50|           3|   2|    26.6|\n",
      "|  24.8|          800|       50|           3|   3|    26.6|\n",
      "+------+-------------+---------+------------+----+--------+\n",
      "only showing top 4 rows\n",
      "\n"
     ]
    }
   ],
   "source": [
    "df_pyspark = spark.read.csv('Machining_Data_Full.csv')\n",
    "df_pyspark.show(4)"
   ]
  },
  {
   "attachments": {},
   "cell_type": "markdown",
   "metadata": {},
   "source": [
    "From dataframe read with pyspark above, we can see that columns name are not right."
   ]
  },
  {
   "cell_type": "code",
   "execution_count": 6,
   "metadata": {},
   "outputs": [
    {
     "name": "stdout",
     "output_type": "stream",
     "text": [
      "+------+-------------+---------+------------+----+--------+\n",
      "|T_awal|Spindle_Speed|Feed_Rate|Depth_of_Cut|Time|T_Output|\n",
      "+------+-------------+---------+------------+----+--------+\n",
      "|  24.8|          800|       50|           3|   1|    24.8|\n",
      "|  24.8|          800|       50|           3|   2|    26.6|\n",
      "|  24.8|          800|       50|           3|   3|    26.6|\n",
      "|  24.8|          800|       50|           3|   4|    26.6|\n",
      "+------+-------------+---------+------------+----+--------+\n",
      "only showing top 4 rows\n",
      "\n"
     ]
    }
   ],
   "source": [
    "# Process dataframe with right columns name\n",
    "df_pyspark = spark.read.option('header', 'true').csv('Machining_Data_Full.csv')\n",
    "df_pyspark.show(4)"
   ]
  },
  {
   "attachments": {},
   "cell_type": "markdown",
   "metadata": {},
   "source": [
    "From pyspark dataframe above, we can see those columns name are it should be."
   ]
  },
  {
   "attachments": {},
   "cell_type": "markdown",
   "metadata": {},
   "source": [
    "### **3. Check Type**"
   ]
  },
  {
   "cell_type": "code",
   "execution_count": 7,
   "metadata": {},
   "outputs": [
    {
     "data": {
      "text/plain": [
       "pyspark.sql.dataframe.DataFrame"
      ]
     },
     "execution_count": 7,
     "metadata": {},
     "output_type": "execute_result"
    }
   ],
   "source": [
    "type(df_pyspark)"
   ]
  },
  {
   "attachments": {},
   "cell_type": "markdown",
   "metadata": {},
   "source": [
    "### **4. Check Information of Pyspark Dataframe**"
   ]
  },
  {
   "cell_type": "code",
   "execution_count": 8,
   "metadata": {},
   "outputs": [
    {
     "name": "stdout",
     "output_type": "stream",
     "text": [
      "root\n",
      " |-- T_awal: string (nullable = true)\n",
      " |-- Spindle_Speed: string (nullable = true)\n",
      " |-- Feed_Rate: string (nullable = true)\n",
      " |-- Depth_of_Cut: string (nullable = true)\n",
      " |-- Time: string (nullable = true)\n",
      " |-- T_Output: string (nullable = true)\n",
      "\n"
     ]
    }
   ],
   "source": [
    "df_pyspark.printSchema()"
   ]
  },
  {
   "attachments": {},
   "cell_type": "markdown",
   "metadata": {},
   "source": [
    "From print schema above, we can see all columns are detected as string. We want to change these into the right type."
   ]
  },
  {
   "cell_type": "code",
   "execution_count": 9,
   "metadata": {},
   "outputs": [
    {
     "name": "stdout",
     "output_type": "stream",
     "text": [
      "+------+-------------+---------+------------+----+--------+\n",
      "|T_awal|Spindle_Speed|Feed_Rate|Depth_of_Cut|Time|T_Output|\n",
      "+------+-------------+---------+------------+----+--------+\n",
      "|  24.8|          800|       50|           3|   1|    24.8|\n",
      "|  24.8|          800|       50|           3|   2|    26.6|\n",
      "|  24.8|          800|       50|           3|   3|    26.6|\n",
      "|  24.8|          800|       50|           3|   4|    26.6|\n",
      "+------+-------------+---------+------------+----+--------+\n",
      "only showing top 4 rows\n",
      "\n"
     ]
    }
   ],
   "source": [
    "df_pyspark = spark.read.csv('Machining_Data_Full.csv', header=True, inferSchema=True)\n",
    "df_pyspark.show(4)"
   ]
  },
  {
   "cell_type": "code",
   "execution_count": 10,
   "metadata": {},
   "outputs": [
    {
     "name": "stdout",
     "output_type": "stream",
     "text": [
      "root\n",
      " |-- T_awal: double (nullable = true)\n",
      " |-- Spindle_Speed: integer (nullable = true)\n",
      " |-- Feed_Rate: integer (nullable = true)\n",
      " |-- Depth_of_Cut: integer (nullable = true)\n",
      " |-- Time: integer (nullable = true)\n",
      " |-- T_Output: double (nullable = true)\n",
      "\n"
     ]
    }
   ],
   "source": [
    "df_pyspark.printSchema()"
   ]
  },
  {
   "attachments": {},
   "cell_type": "markdown",
   "metadata": {},
   "source": [
    "From print schema above, we can see that type of each columns are right"
   ]
  },
  {
   "attachments": {},
   "cell_type": "markdown",
   "metadata": {},
   "source": [
    "### **5. Check Statistic Description of Data**"
   ]
  },
  {
   "cell_type": "code",
   "execution_count": 12,
   "metadata": {},
   "outputs": [
    {
     "name": "stderr",
     "output_type": "stream",
     "text": [
      "23/05/15 13:27:27 WARN package: Truncated the string representation of a plan since it was too large. This behavior can be adjusted by setting 'spark.sql.debug.maxToStringFields'.\n"
     ]
    },
    {
     "name": "stdout",
     "output_type": "stream",
     "text": [
      "+-------+------------------+------------------+------------------+-----------------+------------------+------------------+\n",
      "|summary|            T_awal|     Spindle_Speed|         Feed_Rate|     Depth_of_Cut|              Time|          T_Output|\n",
      "+-------+------------------+------------------+------------------+-----------------+------------------+------------------+\n",
      "|  count|              1516|              1516|              1516|             1516|              1516|              1516|\n",
      "|   mean|23.622493403693962|1136.5435356200528|106.18073878627969|6.342348284960422| 45.30474934036939|31.779023746702016|\n",
      "| stddev| 2.460374139749325|341.86007224372935|103.59793592746297|2.877627511072085|34.697934671939564| 6.817404099087923|\n",
      "|    min|              20.2|               800|                50|                3|                 1|              20.2|\n",
      "|    max|              31.0|              1600|               400|               10|               121|              51.5|\n",
      "+-------+------------------+------------------+------------------+-----------------+------------------+------------------+\n",
      "\n"
     ]
    }
   ],
   "source": [
    "df_pyspark.describe().show()"
   ]
  },
  {
   "attachments": {},
   "cell_type": "markdown",
   "metadata": {},
   "source": [
    "### **6. Columns Processes**"
   ]
  },
  {
   "cell_type": "code",
   "execution_count": 15,
   "metadata": {},
   "outputs": [
    {
     "name": "stdout",
     "output_type": "stream",
     "text": [
      "+------+-------------+---------+------------+----+--------+------------+\n",
      "|T_awal|Spindle_Speed|Feed_Rate|Depth_of_Cut|Time|T_Output|Column_added|\n",
      "+------+-------------+---------+------------+----+--------+------------+\n",
      "|  24.8|          800|       50|           3|   1|    24.8|          52|\n",
      "|  24.8|          800|       50|           3|   2|    26.6|          52|\n",
      "|  24.8|          800|       50|           3|   3|    26.6|          52|\n",
      "|  24.8|          800|       50|           3|   4|    26.6|          52|\n",
      "+------+-------------+---------+------------+----+--------+------------+\n",
      "only showing top 4 rows\n",
      "\n"
     ]
    }
   ],
   "source": [
    "# Add column in dataframe\n",
    "df_pyspark = df_pyspark.withColumn('Column_added', df_pyspark.Feed_Rate+2)\n",
    "df_pyspark.show(4)"
   ]
  },
  {
   "cell_type": "code",
   "execution_count": 16,
   "metadata": {},
   "outputs": [
    {
     "name": "stdout",
     "output_type": "stream",
     "text": [
      "+------+-------------+---------+------------+----+--------+\n",
      "|T_awal|Spindle_Speed|Feed_Rate|Depth_of_Cut|Time|T_Output|\n",
      "+------+-------------+---------+------------+----+--------+\n",
      "|  24.8|          800|       50|           3|   1|    24.8|\n",
      "|  24.8|          800|       50|           3|   2|    26.6|\n",
      "|  24.8|          800|       50|           3|   3|    26.6|\n",
      "|  24.8|          800|       50|           3|   4|    26.6|\n",
      "|  24.8|          800|       50|           3|   5|    26.6|\n",
      "+------+-------------+---------+------------+----+--------+\n",
      "only showing top 5 rows\n",
      "\n"
     ]
    }
   ],
   "source": [
    "# Drop column\n",
    "df_pyspark = df_pyspark.drop('Column_added')\n",
    "df_pyspark.show(5)"
   ]
  },
  {
   "cell_type": "code",
   "execution_count": 17,
   "metadata": {},
   "outputs": [
    {
     "name": "stdout",
     "output_type": "stream",
     "text": [
      "+------+-------------+---------------+------------+----+--------+\n",
      "|T_awal|Spindle_Speed|Kecepatan_Gerak|Depth_of_Cut|Time|T_Output|\n",
      "+------+-------------+---------------+------------+----+--------+\n",
      "|  24.8|          800|             50|           3|   1|    24.8|\n",
      "|  24.8|          800|             50|           3|   2|    26.6|\n",
      "|  24.8|          800|             50|           3|   3|    26.6|\n",
      "|  24.8|          800|             50|           3|   4|    26.6|\n",
      "|  24.8|          800|             50|           3|   5|    26.6|\n",
      "+------+-------------+---------------+------------+----+--------+\n",
      "only showing top 5 rows\n",
      "\n"
     ]
    }
   ],
   "source": [
    "df_pyspark = df_pyspark.withColumnRenamed('Feed_Rate', 'Kecepatan_Gerak')\n",
    "df_pyspark.show(5)"
   ]
  }
 ],
 "metadata": {
  "kernelspec": {
   "display_name": "environment_39",
   "language": "python",
   "name": "python3"
  },
  "language_info": {
   "codemirror_mode": {
    "name": "ipython",
    "version": 3
   },
   "file_extension": ".py",
   "mimetype": "text/x-python",
   "name": "python",
   "nbconvert_exporter": "python",
   "pygments_lexer": "ipython3",
   "version": "3.9.16"
  },
  "orig_nbformat": 4
 },
 "nbformat": 4,
 "nbformat_minor": 2
}
